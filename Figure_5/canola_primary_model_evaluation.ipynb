{
 "cells": [
  {
   "cell_type": "code",
   "execution_count": 1,
   "id": "53fb6113-b344-4ff4-83ce-92e0ae39d146",
   "metadata": {
    "tags": []
   },
   "outputs": [
    {
     "name": "stdout",
     "output_type": "stream",
     "text": [
      "SLEAP: 1.3.3\n",
      "TensorFlow: 2.7.0\n",
      "Numpy: 1.21.6\n",
      "Python: 3.7.12\n",
      "OS: Windows-10-10.0.22621-SP0\n"
     ]
    }
   ],
   "source": [
    "import sleap\n",
    "import numpy as np\n",
    "import pandas as pd\n",
    "import os\n",
    "from pathlib import Path\n",
    "\n",
    "sleap.versions()"
   ]
  },
  {
   "cell_type": "code",
   "execution_count": 2,
   "id": "14b8ab90-1d93-49d7-b886-0c5945d6baa1",
   "metadata": {
    "tags": []
   },
   "outputs": [],
   "source": [
    "# scale\n",
    "px_per_mm = 10.6"
   ]
  },
  {
   "cell_type": "code",
   "execution_count": 3,
   "id": "8bd52a39-6bbc-43c5-83c9-edf432fa1601",
   "metadata": {
    "tags": []
   },
   "outputs": [],
   "source": [
    "# Creates `new_directory` where model evluation data will be saved\n",
    "new_directory = \"canola_primary_model_eval\"\n",
    "os.makedirs(f\"{new_directory}\", exist_ok=True)"
   ]
  },
  {
   "cell_type": "code",
   "execution_count": 4,
   "id": "01cd1c49-65c5-446e-adb3-caf778a0003c",
   "metadata": {
    "tags": []
   },
   "outputs": [],
   "source": [
    "# canola primary root models\n",
    "models = r\"\"\"\n",
    "plantwise_test_splits/plantwise_split_canola_pr.v000/models/230317_121725.multi_instance.n=305\n",
    "plantwise_test_splits/plantwise_split_canola_pr.v001/models/230317_123935.multi_instance.n=302\n",
    "plantwise_test_splits/plantwise_split_canola_pr.v002/models/230317_130113.multi_instance.n=303\n",
    "\"\"\".strip().split()"
   ]
  },
  {
   "cell_type": "code",
   "execution_count": 5,
   "id": "bd0e3781-733f-49b4-8e78-ec35bd21e254",
   "metadata": {
    "tags": []
   },
   "outputs": [
    {
     "ename": "FileNotFoundError",
     "evalue": "[Errno 2] No such file or directory: 'plantwise_test_splits/plantwise_split_canola_pr.v000/models/230317_121725.multi_instance.n=305'",
     "output_type": "error",
     "traceback": [
      "\u001b[1;31m---------------------------------------------------------------------------\u001b[0m",
      "\u001b[1;31mFileNotFoundError\u001b[0m                         Traceback (most recent call last)",
      "\u001b[1;32m~\\AppData\\Local\\Temp\\ipykernel_13984\\2388043125.py\u001b[0m in \u001b[0;36m<module>\u001b[1;34m\u001b[0m\n\u001b[0;32m      7\u001b[0m \u001b[1;33m\u001b[0m\u001b[0m\n\u001b[0;32m      8\u001b[0m \u001b[1;32mfor\u001b[0m \u001b[0mmodel\u001b[0m \u001b[1;32min\u001b[0m \u001b[0mmodels\u001b[0m\u001b[1;33m:\u001b[0m\u001b[1;33m\u001b[0m\u001b[1;33m\u001b[0m\u001b[0m\n\u001b[1;32m----> 9\u001b[1;33m     \u001b[0mmetrics\u001b[0m \u001b[1;33m=\u001b[0m \u001b[0msleap\u001b[0m\u001b[1;33m.\u001b[0m\u001b[0mload_metrics\u001b[0m\u001b[1;33m(\u001b[0m\u001b[0mmodel\u001b[0m\u001b[1;33m,\u001b[0m \u001b[0msplit\u001b[0m\u001b[1;33m=\u001b[0m\u001b[1;34m\"test\"\u001b[0m\u001b[1;33m)\u001b[0m\u001b[1;33m\u001b[0m\u001b[1;33m\u001b[0m\u001b[0m\n\u001b[0m\u001b[0;32m     10\u001b[0m     \u001b[0mroot_name\u001b[0m \u001b[1;33m=\u001b[0m \u001b[0mPath\u001b[0m\u001b[1;33m(\u001b[0m\u001b[0mmodel\u001b[0m\u001b[1;33m)\u001b[0m\u001b[1;33m.\u001b[0m\u001b[0mparts\u001b[0m\u001b[1;33m[\u001b[0m\u001b[1;36m1\u001b[0m\u001b[1;33m]\u001b[0m\u001b[1;33m\u001b[0m\u001b[1;33m\u001b[0m\u001b[0m\n\u001b[0;32m     11\u001b[0m     \u001b[0mmodel_name\u001b[0m \u001b[1;33m=\u001b[0m \u001b[0mPath\u001b[0m\u001b[1;33m(\u001b[0m\u001b[0mmodel\u001b[0m\u001b[1;33m)\u001b[0m\u001b[1;33m.\u001b[0m\u001b[0mparts\u001b[0m\u001b[1;33m[\u001b[0m\u001b[1;36m3\u001b[0m\u001b[1;33m]\u001b[0m\u001b[1;33m\u001b[0m\u001b[1;33m\u001b[0m\u001b[0m\n",
      "\u001b[1;32m~\\.conda\\envs\\sleap_v1.3.3\\lib\\site-packages\\sleap\\nn\\evals.py\u001b[0m in \u001b[0;36mload_metrics\u001b[1;34m(model_path, split)\u001b[0m\n\u001b[0;32m    812\u001b[0m     \u001b[1;32melse\u001b[0m\u001b[1;33m:\u001b[0m\u001b[1;33m\u001b[0m\u001b[1;33m\u001b[0m\u001b[0m\n\u001b[0;32m    813\u001b[0m         \u001b[0mmetrics_path\u001b[0m \u001b[1;33m=\u001b[0m \u001b[0mmodel_path\u001b[0m\u001b[1;33m\u001b[0m\u001b[1;33m\u001b[0m\u001b[0m\n\u001b[1;32m--> 814\u001b[1;33m     \u001b[1;32mwith\u001b[0m \u001b[0mnp\u001b[0m\u001b[1;33m.\u001b[0m\u001b[0mload\u001b[0m\u001b[1;33m(\u001b[0m\u001b[0mmetrics_path\u001b[0m\u001b[1;33m,\u001b[0m \u001b[0mallow_pickle\u001b[0m\u001b[1;33m=\u001b[0m\u001b[1;32mTrue\u001b[0m\u001b[1;33m)\u001b[0m \u001b[1;32mas\u001b[0m \u001b[0mdata\u001b[0m\u001b[1;33m:\u001b[0m\u001b[1;33m\u001b[0m\u001b[1;33m\u001b[0m\u001b[0m\n\u001b[0m\u001b[0;32m    815\u001b[0m         \u001b[1;32mreturn\u001b[0m \u001b[0mdata\u001b[0m\u001b[1;33m[\u001b[0m\u001b[1;34m\"metrics\"\u001b[0m\u001b[1;33m]\u001b[0m\u001b[1;33m.\u001b[0m\u001b[0mitem\u001b[0m\u001b[1;33m(\u001b[0m\u001b[1;33m)\u001b[0m\u001b[1;33m\u001b[0m\u001b[1;33m\u001b[0m\u001b[0m\n",
      "\u001b[1;32m~\\.conda\\envs\\sleap_v1.3.3\\lib\\site-packages\\numpy\\lib\\npyio.py\u001b[0m in \u001b[0;36mload\u001b[1;34m(file, mmap_mode, allow_pickle, fix_imports, encoding)\u001b[0m\n\u001b[0;32m    415\u001b[0m             \u001b[0mown_fid\u001b[0m \u001b[1;33m=\u001b[0m \u001b[1;32mFalse\u001b[0m\u001b[1;33m\u001b[0m\u001b[1;33m\u001b[0m\u001b[0m\n\u001b[0;32m    416\u001b[0m         \u001b[1;32melse\u001b[0m\u001b[1;33m:\u001b[0m\u001b[1;33m\u001b[0m\u001b[1;33m\u001b[0m\u001b[0m\n\u001b[1;32m--> 417\u001b[1;33m             \u001b[0mfid\u001b[0m \u001b[1;33m=\u001b[0m \u001b[0mstack\u001b[0m\u001b[1;33m.\u001b[0m\u001b[0menter_context\u001b[0m\u001b[1;33m(\u001b[0m\u001b[0mopen\u001b[0m\u001b[1;33m(\u001b[0m\u001b[0mos_fspath\u001b[0m\u001b[1;33m(\u001b[0m\u001b[0mfile\u001b[0m\u001b[1;33m)\u001b[0m\u001b[1;33m,\u001b[0m \u001b[1;34m\"rb\"\u001b[0m\u001b[1;33m)\u001b[0m\u001b[1;33m)\u001b[0m\u001b[1;33m\u001b[0m\u001b[1;33m\u001b[0m\u001b[0m\n\u001b[0m\u001b[0;32m    418\u001b[0m             \u001b[0mown_fid\u001b[0m \u001b[1;33m=\u001b[0m \u001b[1;32mTrue\u001b[0m\u001b[1;33m\u001b[0m\u001b[1;33m\u001b[0m\u001b[0m\n\u001b[0;32m    419\u001b[0m \u001b[1;33m\u001b[0m\u001b[0m\n",
      "\u001b[1;31mFileNotFoundError\u001b[0m: [Errno 2] No such file or directory: 'plantwise_test_splits/plantwise_split_canola_pr.v000/models/230317_121725.multi_instance.n=305'"
     ]
    }
   ],
   "source": [
    "# all px converted to mm\n",
    "dist_p50, dist_p90, dist_p95, dist_p99, dist_avg, dist_std = [], [], [], [], [], []\n",
    "dists = []\n",
    "vis_prec, vis_recall = [], []\n",
    "oks_map, oks_mar = [], []\n",
    "model_names, root_names = [], []\n",
    "\n",
    "for model in models:\n",
    "    metrics = sleap.load_metrics(model, split=\"test\")\n",
    "    root_name = Path(model).parts[1]\n",
    "    model_name = Path(model).parts[3]\n",
    "    \n",
    "    print(f\"{root_name}\")\n",
    "    print(f\"{model_name}\")\n",
    "    print(\"Error distance (50%):\", metrics[\"dist.p50\"] / px_per_mm)\n",
    "    print(\"Error distance (90%):\", metrics[\"dist.p90\"] / px_per_mm)\n",
    "    print(\"Error distance (95%):\", metrics[\"dist.p95\"] / px_per_mm)\n",
    "    print(\"Error distance (99%):\", metrics[\"dist.p99\"] / px_per_mm)\n",
    "    print(\"Error distance (avg):\", metrics[\"dist.avg\"] / px_per_mm)\n",
    "    print(\"Error std:\", np.nanstd(metrics[\"dist.dists\"].flatten()) / px_per_mm)\n",
    "    print(\"Vis Precision:\", metrics[\"vis.precision\"])\n",
    "    print(\"Vis Recall:\", metrics[\"vis.recall\"])\n",
    "    print(\"oks mAP:\", metrics[\"oks_voc.mAP\"])\n",
    "    print(\"oks mAR:\", metrics[\"oks_voc.mAR\"])\n",
    "    \n",
    "    dist_p50.append(metrics[\"dist.p50\"] / px_per_mm)\n",
    "    dist_p90.append(metrics[\"dist.p90\"] / px_per_mm)\n",
    "    dist_p95.append(metrics[\"dist.p95\"] / px_per_mm)\n",
    "    dist_p99.append(metrics[\"dist.p99\"] / px_per_mm)\n",
    "    dist_avg.append(metrics[\"dist.avg\"] / px_per_mm)\n",
    "    vis_prec.append(metrics[\"vis.precision\"])\n",
    "    vis_recall.append(metrics[\"vis.recall\"])\n",
    "    oks_map.append(metrics[\"oks_voc.mAP\"])\n",
    "    oks_mar.append(metrics[\"oks_voc.mAR\"])\n",
    "    model_names.append(model_name)\n",
    "    root_names.append(root_name)\n",
    "    dist_std.append(np.nanstd(metrics[\"dist.dists\"].flatten()) / px_per_mm)\n",
    "    dists.append(metrics[\"dist.dists\"].flatten() / px_per_mm)"
   ]
  },
  {
   "cell_type": "code",
   "execution_count": null,
   "id": "fc7c68d8-71d2-41e1-9a3c-d9c2b25d5af0",
   "metadata": {
    "tags": []
   },
   "outputs": [],
   "source": [
    "# Make a dataframe with summary statistics of model evaluation\n",
    "df_summary = pd.DataFrame({\n",
    "    \"Root\": root_names,\n",
    "    \"Model\": model_names,\n",
    "    \"Error distance (50%) mm\": dist_p50,\n",
    "    \"Error distance (90%) mm\": dist_p90,\n",
    "    \"Error distance (95%) mm\": dist_p95,\n",
    "    \"Error distance (99%) mm\": dist_p99,\n",
    "    \"Error distance (avg) mm\": dist_avg,\n",
    "    \"Error std mm\": dist_std,\n",
    "    \"Vis Precision\": vis_prec,\n",
    "    \"Vis Recall\": vis_recall,\n",
    "    \"oks mAP\": oks_map,\n",
    "    \"oks mAR\": oks_mar,\n",
    "})\n",
    "df_summary"
   ]
  },
  {
   "cell_type": "code",
   "execution_count": null,
   "id": "e4027bb3-fbd2-4fe1-be65-cfd038d4cd35",
   "metadata": {
    "tags": []
   },
   "outputs": [],
   "source": [
    "# Save summary of error metrics per model\n",
    "df_summary.to_csv(f\"{new_directory}/error_metrics_summary.csv\", index=False)"
   ]
  },
  {
   "cell_type": "code",
   "execution_count": null,
   "id": "38adca46-44c8-468c-b1c8-27c496206c00",
   "metadata": {
    "tags": []
   },
   "outputs": [],
   "source": [
    "# Make a dataframe with the all three test sets localization error distributions\n",
    "df_error = pd.concat([\n",
    "    pd.DataFrame({\n",
    "        \"model\": [f\"{model_names[0]}\"] * len(dists[0]),\n",
    "        \"test_dists\": list(dists[0]),\n",
    "\n",
    "    }),\n",
    "    pd.DataFrame({\n",
    "        \"model\": [f\"{model_names[1]}\"] * len(dists[1]),\n",
    "        \"test_dists\": list(dists[1]),\n",
    "\n",
    "    }),\n",
    "    pd.DataFrame({\n",
    "    \"model\": [f\"{model_names[2]}\"] * len(dists[2]),\n",
    "    \"test_dists\": list(dists[2]),\n",
    "\n",
    "    }),\n",
    "])\n",
    "df_error"
   ]
  },
  {
   "cell_type": "code",
   "execution_count": null,
   "id": "33081ba5-a633-4d15-aa2f-2534ab01ca3f",
   "metadata": {
    "tags": []
   },
   "outputs": [],
   "source": [
    "# Save error distributions \n",
    "df_error.to_csv(f\"{new_directory}/error_dists.csv\", index=False)"
   ]
  },
  {
   "cell_type": "code",
   "execution_count": null,
   "id": "48725473-b565-4414-b85d-5fef27a09c6d",
   "metadata": {},
   "outputs": [],
   "source": []
  }
 ],
 "metadata": {
  "kernelspec": {
   "display_name": "Python 3 (ipykernel)",
   "language": "python",
   "name": "python3"
  },
  "language_info": {
   "codemirror_mode": {
    "name": "ipython",
    "version": 3
   },
   "file_extension": ".py",
   "mimetype": "text/x-python",
   "name": "python",
   "nbconvert_exporter": "python",
   "pygments_lexer": "ipython3",
   "version": "3.7.12"
  }
 },
 "nbformat": 4,
 "nbformat_minor": 5
}
