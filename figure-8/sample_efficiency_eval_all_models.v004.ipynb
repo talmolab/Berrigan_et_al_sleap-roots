{
 "cells": [
  {
   "cell_type": "code",
   "execution_count": 1,
   "id": "f5f10341-a39f-4903-821a-2beac04b143f",
   "metadata": {},
   "outputs": [
    {
     "name": "stdout",
     "output_type": "stream",
     "text": [
      "SLEAP: 1.3.3\n",
      "TensorFlow: 2.7.0\n",
      "Numpy: 1.21.6\n",
      "Python: 3.7.12\n",
      "OS: Windows-10-10.0.22621-SP0\n"
     ]
    }
   ],
   "source": [
    "import sleap\n",
    "import numpy as np\n",
    "import pandas as pd\n",
    "import matplotlib as mpl\n",
    "import matplotlib.pyplot as plt\n",
    "import seaborn as sns\n",
    "import os\n",
    "import csv\n",
    "from pathlib import Path\n",
    "\n",
    "mpl.style.use(\"seaborn-deep\")\n",
    "sleap.versions()\n",
    "sleap.disable_preallocation()\n",
    "# sleap.use_cpu_only()"
   ]
  },
  {
   "cell_type": "code",
   "execution_count": 2,
   "id": "9a8551fe-56f1-4857-ae8e-5f42f8ad837c",
   "metadata": {
    "tags": []
   },
   "outputs": [],
   "source": [
    "mpl.rcParams[\"figure.facecolor\"] = \"w\"\n",
    "mpl.rcParams[\"figure.dpi\"] = 150\n",
    "mpl.rcParams[\"savefig.dpi\"] = 600\n",
    "mpl.rcParams[\"savefig.transparent\"] = True\n",
    "# mpl.rcParams[\"savefig.bbox_inches\"] = \"tight\"\n",
    "mpl.rcParams[\"font.size\"] = 15\n",
    "mpl.rcParams[\"font.family\"] = \"sans-serif\"\n",
    "mpl.rcParams[\"font.sans-serif\"] = [\"Arial\"]\n",
    "mpl.rcParams[\"axes.titlesize\"] = \"xx-large\"  # medium, large, x-large, xx-large\n",
    "# print(mpl.rcParams.keys())\n",
    "# This might be necessary to export to PDF without messing up the text:\n",
    "mpl.rcParams[\"pdf.fonttype\"] = 42\n",
    "mpl.rcParams[\"ps.fonttype\"] = 42\n",
    "\n",
    "# mpl.style.use(\"ggplot\")\n",
    "# mpl.style.use(\"seaborn-paper\")\n",
    "mpl.style.use(\"seaborn-deep\")\n",
    "# print(mpl.style.available)"
   ]
  },
  {
   "cell_type": "code",
   "execution_count": 3,
   "id": "243df82d-ec76-4abb-8d18-bd91ffc7fb61",
   "metadata": {},
   "outputs": [],
   "source": [
    "# scale\n",
    "px_per_mm = 10.6"
   ]
  },
  {
   "cell_type": "code",
   "execution_count": 4,
   "id": "6ef95935-67a7-44a5-82b4-b43dc50027ae",
   "metadata": {
    "tags": []
   },
   "outputs": [],
   "source": [
    "se_folders = \"\"\"\n",
    "sample_efficiency_plantwise_split_rice_10do_main\n",
    "sample_efficiency_plantwise_split_rice_3do_long\n",
    "sample_efficiency_plantwise_split_rice_3do_main\n",
    "sample_efficiency_plantwise_split_soy_lr\n",
    "sample_efficiency_plantwise_split_soy_pr\n",
    "sample_efficiency_plantwise_split_arabidopsis_7dap_lr\n",
    "sample_efficiency_plantwise_split_arabidopsis_7dap_pr\n",
    "sample_efficiency_plantwise_split_canola_lr\n",
    "sample_efficiency_plantwise_split_canola_pr\n",
    "\"\"\".strip().split()\n",
    "\n",
    "se_names = {\n",
    "    \"sample_efficiency_plantwise_split_rice_10do_main\": \"Rice (10 DAG, crown)\",\n",
    "    \"sample_efficiency_plantwise_split_rice_3do_long\": \"Rice (3 DAG, primary)\",\n",
    "    \"sample_efficiency_plantwise_split_rice_3do_main\": \"Rice (3 DAG, crown)\",\n",
    "    \"sample_efficiency_plantwise_split_soy_lr\": \"Soybean (5-8 DAG, lateral)\",\n",
    "    \"sample_efficiency_plantwise_split_soy_pr\": \"Soybean (5-8 DAG, primary)\",\n",
    "    \"sample_efficiency_plantwise_split_arabidopsis_7dap_lr\": \"Arabidopsis (7 DAG, lateral)\",\n",
    "    \"sample_efficiency_plantwise_split_arabidopsis_7dap_pr\": \"Arabidopsis (7 DAG, primary)\",\n",
    "    \"sample_efficiency_plantwise_split_canola_lr\": \"Canola (5-13 DAG, lateral)\",\n",
    "    \"sample_efficiency_plantwise_split_canola_pr\": \"Canola (5-13 DAG, primary)\",\n",
    "}"
   ]
  },
  {
   "cell_type": "code",
   "execution_count": 5,
   "id": "2f1852a2-f4e3-430e-990d-841cc6f41f66",
   "metadata": {
    "tags": []
   },
   "outputs": [
    {
     "data": {
      "text/plain": [
       "['sample_efficiency_plantwise_split_rice_10do_main',\n",
       " 'sample_efficiency_plantwise_split_rice_3do_long',\n",
       " 'sample_efficiency_plantwise_split_rice_3do_main',\n",
       " 'sample_efficiency_plantwise_split_soy_lr',\n",
       " 'sample_efficiency_plantwise_split_soy_pr',\n",
       " 'sample_efficiency_plantwise_split_arabidopsis_7dap_lr',\n",
       " 'sample_efficiency_plantwise_split_arabidopsis_7dap_pr',\n",
       " 'sample_efficiency_plantwise_split_canola_lr',\n",
       " 'sample_efficiency_plantwise_split_canola_pr']"
      ]
     },
     "execution_count": 5,
     "metadata": {},
     "output_type": "execute_result"
    }
   ],
   "source": [
    "se_folders"
   ]
  },
  {
   "cell_type": "code",
   "execution_count": 6,
   "id": "5f82c9ca-ff31-47f8-b5c4-13a42af9f4ea",
   "metadata": {},
   "outputs": [],
   "source": [
    "os.makedirs(f\"figures/sample_efficiency\", exist_ok=True)"
   ]
  },
  {
   "cell_type": "code",
   "execution_count": 7,
   "id": "105e261c-2b4f-4bf1-b90b-61d7cd929beb",
   "metadata": {
    "tags": []
   },
   "outputs": [],
   "source": [
    "# Define the name of the output CSV file\n",
    "output_csv_path = Path(\"sample_efficiency.csv\")\n",
    "\n",
    "# Prepare a list to hold data rows\n",
    "data_rows = []\n",
    "\n",
    "# Loop over each SE folder\n",
    "for se_folder in se_folders:\n",
    "    # Define the path to the splits CSV file using pathlib\n",
    "    splits_csv_path = Path(se_folder) / \"splits.csv\"\n",
    "\n",
    "    # Read the splits CSV file into a DataFrame\n",
    "    splits_df = pd.read_csv(splits_csv_path)\n",
    "\n",
    "    # Loop over each row in the DataFrame\n",
    "    for index, row in splits_df.iterrows():\n",
    "        # Get the base path from the \"path\" column\n",
    "        base_path = Path(row[\"path\"])\n",
    "\n",
    "        # Define the models path\n",
    "        models_path = base_path / \"models\"\n",
    "\n",
    "        # Loop over the models in the base path\n",
    "        for model_name in models_path.iterdir():\n",
    "            # Prepare the row data as a dictionary\n",
    "            row_data = {\n",
    "                \"se_folder\": se_folder,\n",
    "                \"model_path\": str(model_name),\n",
    "                \"sample_size\": row[\"sample_size\"]\n",
    "            }\n",
    "\n",
    "            # Append the dictionary to the data rows list\n",
    "            data_rows.append(row_data)\n",
    "\n",
    "# Convert the list of dictionaries to a DataFrame\n",
    "output_df = pd.DataFrame(data_rows)\n",
    "\n",
    "# Write the DataFrame to a CSV file\n",
    "output_df.to_csv(output_csv_path, index=False)\n"
   ]
  },
  {
   "cell_type": "code",
   "execution_count": 9,
   "id": "2ef33f6a-8b28-4c5c-80e5-3ed8b5044d34",
   "metadata": {
    "tags": []
   },
   "outputs": [],
   "source": [
    "# df = pd.read_csv(\"sample_efficiency.csv\")\n",
    "df = output_df.copy()"
   ]
  },
  {
   "cell_type": "code",
   "execution_count": 10,
   "id": "e74ae0bd-8bb5-47e3-93ed-5d80083c4e1a",
   "metadata": {
    "tags": []
   },
   "outputs": [
    {
     "data": {
      "text/plain": [
       "225"
      ]
     },
     "execution_count": 10,
     "metadata": {},
     "output_type": "execute_result"
    }
   ],
   "source": [
    "se_folder = list(df.se_folder)\n",
    "len(se_folder)"
   ]
  },
  {
   "cell_type": "code",
   "execution_count": 11,
   "id": "bc278ccf-57cc-4e06-a7db-1197f7a2ea19",
   "metadata": {},
   "outputs": [
    {
     "data": {
      "text/plain": [
       "225"
      ]
     },
     "execution_count": 11,
     "metadata": {},
     "output_type": "execute_result"
    }
   ],
   "source": [
    "train_n = list(df.sample_size)\n",
    "len(train_n)"
   ]
  },
  {
   "cell_type": "code",
   "execution_count": 12,
   "id": "00c388e4-ec49-4bd9-8275-12a6e75619a4",
   "metadata": {
    "tags": []
   },
   "outputs": [
    {
     "data": {
      "text/plain": [
       "225"
      ]
     },
     "execution_count": 12,
     "metadata": {},
     "output_type": "execute_result"
    }
   ],
   "source": [
    "models = list(df.model_path)\n",
    "len(models)"
   ]
  },
  {
   "cell_type": "code",
   "execution_count": null,
   "id": "6e9f2196-ebc1-415d-a6b1-0b9ed0ce7b59",
   "metadata": {
    "tags": []
   },
   "outputs": [],
   "source": [
    "# all px converted to mm\n",
    "dist_p50, dist_p90, dist_p95, dist_p99, dist_avg, dist_std, oks_map = [], [], [], [], [], [], []\n",
    "\n",
    "for model in models:\n",
    "    metrics = sleap.load_metrics(model, split=\"test\")\n",
    "    \n",
    "    # print(\"Error distance (50%):\", metrics[\"dist.p50\"] / px_per_mm)\n",
    "    # print(\"Error distance (90%):\", metrics[\"dist.p90\"] / px_per_mm)\n",
    "    # print(\"Error distance (95%):\", metrics[\"dist.p95\"] / px_per_mm)\n",
    "    # print(\"Error distance (99%):\", metrics[\"dist.p99\"] / px_per_mm)\n",
    "    # print(\"Error distance (avg):\", metrics[\"dist.avg\"] / px_per_mm)\n",
    "    # print(\"Error std:\", np.nanstd(metrics[\"dist.dists\"].flatten()) / px_per_mm)\n",
    "    \n",
    "    dist_p50.append(metrics[\"dist.p50\"] / px_per_mm)\n",
    "    dist_p90.append(metrics[\"dist.p90\"] / px_per_mm)\n",
    "    dist_p95.append(metrics[\"dist.p95\"] / px_per_mm)\n",
    "    dist_p99.append(metrics[\"dist.p99\"] / px_per_mm)\n",
    "    dist_avg.append(metrics[\"dist.avg\"] / px_per_mm)\n",
    "    dist_std.append(np.nanstd(metrics[\"dist.dists\"].flatten()) / px_per_mm)\n",
    "    oks_map.append(metrics[\"oks_voc.mAP\"])"
   ]
  },
  {
   "cell_type": "code",
   "execution_count": null,
   "id": "34b7f4ec-2769-46eb-99cc-d0962ea0207f",
   "metadata": {},
   "outputs": [],
   "source": [
    "df_summary = pd.DataFrame({\n",
    "    \"SE folder\": se_folder,\n",
    "    \"Model\": models,\n",
    "    \"Train sample size\": train_n,\n",
    "    \"Error distance (50%) mm\": dist_p50,\n",
    "    \"Error distance (90%) mm\": dist_p90,\n",
    "    \"Error distance (95%) mm\": dist_p95,\n",
    "    \"Error distance (99%) mm\": dist_p99,\n",
    "    \"Error distance (avg) mm\": dist_avg,\n",
    "    \"Error std mm\": dist_std,\n",
    "    \"oks mAP\": oks_map,\n",
    "})\n",
    "df_summary[\"Dataset\"] = df_summary[\"SE folder\"].map(lambda x: se_names[x])\n",
    "\n",
    "df_summary"
   ]
  },
  {
   "cell_type": "code",
   "execution_count": null,
   "id": "6e14032c-e083-4b9e-ac69-c22b6cefdd2f",
   "metadata": {},
   "outputs": [],
   "source": [
    "# summary of sample efficiency \n",
    "df_summary.to_csv(f\"sample_efficiency_summary.csv\", index=False)"
   ]
  },
  {
   "cell_type": "code",
   "execution_count": null,
   "id": "07898d51-f991-4b4a-9eaa-39e383e567b2",
   "metadata": {
    "tags": []
   },
   "outputs": [],
   "source": [
    "len(df_summary[\"SE folder\"].unique())"
   ]
  },
  {
   "cell_type": "code",
   "execution_count": null,
   "id": "3ee71be6-31ba-43ca-8f58-739a0df097c5",
   "metadata": {
    "tags": []
   },
   "outputs": [],
   "source": [
    "# # subset_df = df_summary[df_summary[\"SE folder\"] == se_folder]\n",
    "\n",
    "# # Calculate the median and standard deviation of \"Error distance (90%) mm\" for each \"Train sample size\" value\n",
    "# # median_df = df_summary.groupby(\"Train sample size\")[\"Error distance (90%) mm\"].agg([\"median\", \"std\"])\n",
    "# # median_df.reset_index(inplace=True)\n",
    "\n",
    "# plt.figure(figsize=(8, 6))\n",
    "\n",
    "# # Create a scatter plot of \"Train sample size\" vs \"Error distance (90%) mm\"\n",
    "# ax = sns.scatterplot(x=\"Train sample size\", y=\"Error distance (90%) mm\", hue=\"Dataset\", data=df_summary)\n",
    "\n",
    "# ax = sns.lineplot(x=\"Train sample size\", y=\"Error distance (90%) mm\", hue=\"Dataset\", errorbar=None, data=df_summary, legend=False, lw=3)\n",
    "\n",
    "# # Add error bars to the plot using the standard deviation values\n",
    "# # col = sns.color_palette(\"tab10\")[0]\n",
    "# # plt.errorbar(median_df[\"Train sample size\"], median_df[\"median\"], yerr=median_df[\"std\"], fmt='none', ecolor=col)#, ecolor='k')\n",
    "\n",
    "# # # Add lines connecting the median values for each \"Train sample size\" value\n",
    "# # sns.lineplot(x=\"Train sample size\", y=\"median\", data=median_df, ax=ax, color=col)\n",
    "\n",
    "# # # Set the title of the subplot to the current SE_folder value\n",
    "# # ax.set_title(se_folder)\n",
    "\n",
    "# # ax.set_xlabel(\"Train sample size\")\n",
    "\n",
    "# # ax.set_ylabel(\"Error distance (90%) mm\")\n",
    "\n",
    "# # plt.savefig(f\"{output_folder}/{se_folder}_error_dist_90.png\", dpi=300, bbox_inches='tight', pad_inches=0.1, facecolor='w')\n",
    "\n",
    "# # plt.show()\n",
    "# # plt.close()"
   ]
  },
  {
   "cell_type": "code",
   "execution_count": null,
   "id": "db038a80-9c72-4566-8eb8-ea009571a8d2",
   "metadata": {
    "tags": []
   },
   "outputs": [],
   "source": [
    "df_summary['Dataset'].unique()"
   ]
  },
  {
   "cell_type": "code",
   "execution_count": null,
   "id": "fcc897ab-0a43-4976-8132-8cad19fe86a6",
   "metadata": {},
   "outputs": [],
   "source": [
    "plt.figure(figsize=(10, 7))\n",
    "\n",
    "# Define the desired order of the dataset hue\n",
    "hue_order = [\"Arabidopsis (7 DAG, primary)\", \"Rice (3 DAG, primary)\", \"Canola (5-13 DAG, primary)\",\n",
    "             \"Arabidopsis (7 DAG, lateral)\", \"Soybean (5-8 DAG, lateral)\", \"Soybean (5-8 DAG, primary)\", \n",
    "             \"Rice (3 DAG, crown)\", \"Rice (10 DAG, crown)\", \"Canola (5-13 DAG, lateral)\"]\n",
    "\n",
    "# Create a scatter plot with the specified hue order\n",
    "ax = sns.scatterplot(x=\"Train sample size\", y=\"Error distance (90%) mm\", hue=\"Dataset\", hue_order=hue_order, data=df_summary)\n",
    "\n",
    "ax = sns.lineplot(x=\"Train sample size\", y=\"Error distance (90%) mm\", hue=\"Dataset\", hue_order=hue_order, errorbar=None, data=df_summary, legend=False, lw=3)\n",
    "\n",
    "# Optionally, you can set a custom legend order using the 'handles' and 'labels' attributes of the legend\n",
    "handles, labels = ax.get_legend_handles_labels()\n",
    "ax.legend(handles=handles, labels=hue_order, title=\"Root model\")\n",
    "\n",
    "plt.savefig(r\"figures/sample_efficiency/sample_efficiency_all_models.png\", bbox_inches = \"tight\", facecolor=\"white\")\n",
    "plt.savefig(r\"figures/sample_efficiency/sample_efficiency_all_models.pdf\", bbox_inches = \"tight\", facecolor=\"white\")"
   ]
  },
  {
   "cell_type": "code",
   "execution_count": null,
   "id": "42c8de64-d94b-4b35-83f1-1327ad6928c6",
   "metadata": {},
   "outputs": [],
   "source": [
    "threshold = 3  # mm\n",
    "\n",
    "# Define the desired order of the dataset hue\n",
    "hue_order = [\"Arabidopsis (7 DAG, primary)\", \"Rice (3 DAG, primary)\", \"Canola (5-13 DAG, primary)\",\n",
    "             \"Arabidopsis (7 DAG, lateral)\", \"Soybean (5-8 DAG, lateral)\", \"Soybean (5-8 DAG, primary)\", \n",
    "             \"Rice (3 DAG, crown)\", \"Rice (10 DAG, crown)\", \"Canola (5-13 DAG, lateral)\"]\n",
    "\n",
    "def is_accurate(df):\n",
    "    df[\"is_accurate\"] = (df[\"Error distance (90%) mm\"] - df[\"Error distance (90%) mm\"].min()) < threshold\n",
    "    return df\n",
    "\n",
    "df = df_summary.groupby([\"Dataset\", \"Train sample size\"])[\"Error distance (90%) mm\"].agg(\"median\").reset_index()\n",
    "df = df.groupby(\"Dataset\").apply(is_accurate)\n",
    "df = df[df[\"is_accurate\"]].sort_values(\"Train sample size\").groupby(\"Dataset\").first().reset_index().drop(\"is_accurate\", axis=1)\n",
    "\n",
    "plt.figure(figsize=(8, 6))\n",
    "sns.barplot(x=\"Train sample size\", y=\"Dataset\", data=df, order=hue_order )\n",
    "plt.xlabel(\"Labels required to attain accuracy within 3 mm of best performance\")\n",
    "plt.ylabel(\"Root model\")\n",
    "plt.savefig(r\"figures/sample_efficiency/number_labeled_frames_required_for_accurate_predictions.png\", bbox_inches = \"tight\", facecolor=\"white\")\n",
    "plt.savefig(r\"figures/sample_efficiency/number_labeled_frames_required_for_accurate_predictions.pdf\", bbox_inches = \"tight\", facecolor=\"white\")"
   ]
  },
  {
   "cell_type": "code",
   "execution_count": null,
   "id": "fc63b99a-c2fe-49ea-b958-b24474274057",
   "metadata": {},
   "outputs": [],
   "source": [
    "# labels required to attain accuracy within 3 mm of best performance\n",
    "df.to_csv(f\"labels_for_minimally_accurate_model.csv\", index=False)"
   ]
  },
  {
   "cell_type": "code",
   "execution_count": null,
   "id": "330186e3-28e8-4f60-882c-82ba7ce20781",
   "metadata": {},
   "outputs": [],
   "source": []
  }
 ],
 "metadata": {
  "kernelspec": {
   "display_name": "Python 3 (ipykernel)",
   "language": "python",
   "name": "python3"
  },
  "language_info": {
   "codemirror_mode": {
    "name": "ipython",
    "version": 3
   },
   "file_extension": ".py",
   "mimetype": "text/x-python",
   "name": "python",
   "nbconvert_exporter": "python",
   "pygments_lexer": "ipython3",
   "version": "3.7.12"
  }
 },
 "nbformat": 4,
 "nbformat_minor": 5
}
